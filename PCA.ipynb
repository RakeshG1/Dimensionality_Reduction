{
 "cells": [
  {
   "cell_type": "markdown",
   "metadata": {},
   "source": [
    "### Curse Of Dimensionality"
   ]
  },
  {
   "cell_type": "markdown",
   "metadata": {},
   "source": [
    "* The Curse of Dimensionality is termed by mathematician R. Bellman in his book “Dynamic Programming” in 1957. According to him, the curse of dimensionality is the problem caused by the exponential increase in volume associated with adding extra dimensions to Euclidean space.  \n",
    "\n",
    "* The curse of dimensionality basically means that the error increases with the increase in the number of features. It refers to the fact that algorithms are harder to design in high dimensions and often have a running time exponential in the dimensions. A higher number of dimensions theoretically allow more information to be stored, but practically it rarely helps due to the higher possibility of noise and redundancy in the real-world data.\n",
    "\n",
    "* Gathering a huge number of data may lead to the dimensionality problem where <b>highly noisy dimensions with fewer pieces of information and without significant benefit can be obtained due to the large data</b>. The exploding nature of spatial volume is at the forefront is the reason for the curse of dimensionality."
   ]
  },
  {
   "cell_type": "markdown",
   "metadata": {},
   "source": [
    "&nbsp;"
   ]
  },
  {
   "cell_type": "markdown",
   "metadata": {},
   "source": [
    "### About Linear Transformation"
   ]
  },
  {
   "cell_type": "markdown",
   "metadata": {},
   "source": [
    "* We can manipulate a vector by multiplying it with a matrix. The matrix acts as a function that operates on an input vector to produce a vector output. Specifically, matrix multiplications of vectors are linear transformations that transform the input vector into the output vector.\n",
    "\n",
    "* We can define a transformation T like this: T( 𝑣⃗) = A 𝑣⃗\n",
    "\n",
    "* Linear transformation do the transformation on input data's high variance direction, where eigen vectors are the vectors in same high variance direction where linear transformation happens. That's Eigen vectors are used for linear transformation on input data.\n",
    "\n",
    "![title](images/Linear_Transformation.png)\n",
    "\n",
    "![title](images/Linear_Transformation_1.png)"
   ]
  },
  {
   "cell_type": "markdown",
   "metadata": {},
   "source": [
    "&nbsp;"
   ]
  },
  {
   "cell_type": "markdown",
   "metadata": {},
   "source": [
    "&nbsp;"
   ]
  },
  {
   "cell_type": "markdown",
   "metadata": {},
   "source": [
    "### About Covariance Matrix\n",
    "\n",
    "![title](images/covariance_1.png)\n",
    "![title](images/covariance_2.png)\n",
    "* A two dimensional data variance,covariance explanation can be achieved by the 2x2 covariance matrix.\n",
    "![title](images/Covariance_Matrix.png)\n",
    "* We can see in 1st subplot plot 5 show variance spread of x axis data points and 6 show variance spread of y axis data points. Where both 4 shows (x,y) & (y,x) combinedly change together spread.\n",
    "* Hence, by using Covariance matrix, we get to know data's variance & covariance information. From this we decompose covariance matrix into (Eigen vectors & Eigen values)  i.e., Eigen decomposition. We use top Eigen vectors and Eigen values as projection matrix & then do linear transformation by projection matrix * input data = output data(i.e, as a result we get less dimesions data, those dimensions have high variance out of all dimensions. because we use high variance direction(i.e., eigen vectors) also known as top axis with high variance) "
   ]
  },
  {
   "cell_type": "markdown",
   "metadata": {},
   "source": [
    "&nbsp;"
   ]
  },
  {
   "cell_type": "markdown",
   "metadata": {},
   "source": [
    "&nbsp;"
   ]
  },
  {
   "cell_type": "markdown",
   "metadata": {},
   "source": [
    "### What is PCA ??"
   ]
  },
  {
   "cell_type": "markdown",
   "metadata": {},
   "source": [
    "##### Principal component analysis (PCA) : Eigen vectors analysis\n",
    "* Principal component analysis (PCA) is a statistical procedure that uses an orthogonal transformation to convert a set of observations of possibly correlated variables into a set of values of linearly uncorrelated variables called principal components.\n",
    "* PCA tries to find the directions of maximum variance (direction of orthogonal axes / principal components) in data and projects it onto a new subspace with lower dimension than the original one.\n",
    "\n",
    "![title](images/PCA_1.png)\n",
    "![title](images/PCA_2.png)\n",
    "\n",
    "* The eigendecomposition is a way of expressing a covariance matrix in terms of its eigenvectors and eigenvalues.\n",
    "* Eigen Vectors are the unit vectors(just to show the direction) which tells the direction of the maximum variance of data. & Eigen Variance tells us how much variance we have in that direction(of eigen vector)."
   ]
  },
  {
   "cell_type": "markdown",
   "metadata": {},
   "source": [
    "&nbsp;"
   ]
  },
  {
   "cell_type": "markdown",
   "metadata": {},
   "source": [
    "&nbsp;"
   ]
  },
  {
   "cell_type": "markdown",
   "metadata": {},
   "source": [
    "### Importing Libraries"
   ]
  },
  {
   "cell_type": "code",
   "execution_count": 15,
   "metadata": {},
   "outputs": [],
   "source": [
    "import pandas as pd\n",
    "import numpy as np\n",
    "from scipy import stats\n",
    "from sklearn.decomposition import PCA\n",
    "import matplotlib.pyplot as plt\n",
    "%matplotlib inline"
   ]
  },
  {
   "cell_type": "markdown",
   "metadata": {},
   "source": [
    "&nbsp;"
   ]
  },
  {
   "cell_type": "markdown",
   "metadata": {},
   "source": [
    "&nbsp;"
   ]
  },
  {
   "cell_type": "markdown",
   "metadata": {},
   "source": [
    "### Sample Data"
   ]
  },
  {
   "cell_type": "code",
   "execution_count": 5,
   "metadata": {},
   "outputs": [],
   "source": [
    "hair_color = [.2,.2,.2,.2,.2,.2,.2,.2,.2,.2,.2,.2]\n",
    "heights = [0.3,.8,.9,.8,.6,.9,.6,.6,.7,.5,.6,.8]"
   ]
  },
  {
   "cell_type": "markdown",
   "metadata": {},
   "source": [
    "&nbsp;"
   ]
  },
  {
   "cell_type": "markdown",
   "metadata": {},
   "source": [
    "&nbsp;"
   ]
  },
  {
   "cell_type": "markdown",
   "metadata": {},
   "source": [
    "### PCA(From Scratch)"
   ]
  },
  {
   "cell_type": "code",
   "execution_count": 9,
   "metadata": {},
   "outputs": [
    {
     "name": "stdout",
     "output_type": "stream",
     "text": [
      "This is matrix format with two columns :\n",
      "\n",
      "[[0.2 0.3]\n",
      " [0.2 0.8]\n",
      " [0.2 0.9]\n",
      " [0.2 0.8]\n",
      " [0.2 0.6]\n",
      " [0.2 0.9]\n",
      " [0.2 0.6]\n",
      " [0.2 0.6]\n",
      " [0.2 0.7]\n",
      " [0.2 0.5]\n",
      " [0.2 0.6]\n",
      " [0.2 0.8]]\n"
     ]
    }
   ],
   "source": [
    "X = np.vstack((hair_color, heights)).T\n",
    "print(\"This is matrix format with two columns :\\n\")\n",
    "print(X)"
   ]
  },
  {
   "cell_type": "code",
   "execution_count": 13,
   "metadata": {},
   "outputs": [
    {
     "name": "stdout",
     "output_type": "stream",
     "text": [
      "[[0.2 0.2 0.2 0.2 0.2 0.2 0.2 0.2 0.2 0.2 0.2 0.2]\n",
      " [0.3 0.8 0.9 0.8 0.6 0.9 0.6 0.6 0.7 0.5 0.6 0.8]] \n",
      "\n",
      "Covariance Matrix :\n",
      "\n",
      "[[ 8.40405794e-34 -2.10101448e-33]\n",
      " [-2.10101448e-33  3.11363636e-02]]\n"
     ]
    }
   ],
   "source": [
    "#Covariance\n",
    "def cov(x, y):\n",
    "    xbar, ybar = x.mean(), y.mean()\n",
    "    return np.sum((x - xbar)*(y - ybar))/(len(x) - 1)\n",
    "\n",
    "#Covariance matrix\n",
    "def cov_mat(X):\n",
    "    return np.array([[cov(X[0], X[0]), cov(X[0], X[1])], \\\n",
    "                     [cov(X[1], X[0]), cov(X[1], X[1])]])\n",
    "\n",
    "print(X.T,'\\n')\n",
    "\n",
    "C = cov_mat(X.T)\n",
    "\n",
    "print(\"Covariance Matrix :\\n\")\n",
    "print(C)"
   ]
  },
  {
   "cell_type": "code",
   "execution_count": 30,
   "metadata": {},
   "outputs": [
    {
     "name": "stdout",
     "output_type": "stream",
     "text": [
      "Eigenvectors : 1st column is one eigen vector \\ 2nd column is second eigen vector \n",
      "[[ 1.00000000e+00 -6.74778375e-32]\n",
      " [ 0.00000000e+00  1.00000000e+00]]\n",
      "\n",
      "Eigenvalues : 1st value is one eigen value \\ 2nd value is second eigen value \n",
      "[8.40405794e-34 3.11363636e-02] \n",
      "\n",
      "\n",
      "Eig_pairs :\n",
      "[(0.03113636363636364, array([-6.74778375e-32,  1.00000000e+00])), (8.404057939144301e-34, array([1., 0.]))] \n",
      "\n",
      "Eigenvalues in descending order :\n",
      "0.03113636363636364\n",
      "8.404057939144301e-34\n",
      "\n",
      "\n",
      "Transformation Matrix W \\ Projection Matrix \\ Eigen Vectors of Covariance Matrix,       \n",
      "which linearly transforms input data into datas high variance direction:      \n",
      "\n",
      "1st column is highest eigen vector \\ 2nd column is second highest eigen vector\n",
      "\n",
      " [[-6.74778375e-32  1.00000000e+00]\n",
      " [ 1.00000000e+00  0.00000000e+00]]\n"
     ]
    }
   ],
   "source": [
    "eig_vals, eig_vecs = np.linalg.eig(C) \n",
    "# This numpy function finding Eigen vectors and Eigen Values(We can do this manually but some conditions to be satisfied, refer notes)\n",
    "\n",
    "print('Eigenvectors : 1st column is one eigen vector \\ 2nd column is second eigen vector \\n%s' %eig_vecs)\n",
    "print('\\nEigenvalues : 1st value is one eigen value \\ 2nd value is second eigen value \\n%s' %eig_vals,'\\n\\n')\n",
    "\n",
    "# Make a list of (eigenvalue, eigenvector) tuples\n",
    "eig_pairs = [(np.abs(eig_vals[i]), eig_vecs[:,i]) for i in range(len(eig_vals))]\n",
    "\n",
    "# Sort the (eigenvalue, eigenvector) tuples from high to low\n",
    "eig_pairs.sort(key=lambda x: x[0], reverse=True)\n",
    "\n",
    "print('Eig_pairs :')\n",
    "print(eig_pairs,'\\n')\n",
    "\n",
    "# Visually confirm that the list is correctly sorted by decreasing eigenvalues\n",
    "print('Eigenvalues in descending order :')\n",
    "for i in eig_pairs:\n",
    "    print(i[0])\n",
    "    \n",
    "matrix_w = np.hstack((eig_pairs[0][1].reshape(2,1),\n",
    "                      eig_pairs[1][1].reshape(2,1)))\n",
    "\n",
    "print('\\n\\nTransformation Matrix W \\ Projection Matrix \\ Eigen Vectors of Covariance Matrix, \\\n",
    "      \\nwhich linearly transforms input data into datas high variance direction:\\\n",
    "      \\n\\n1st column is highest eigen vector \\ 2nd column is second highest eigen vector\\n\\n',\n",
    "      matrix_w)"
   ]
  },
  {
   "cell_type": "markdown",
   "metadata": {},
   "source": [
    "##### Key Note :\n",
    "* <span style='background:yellow'>Eigen vectors are the one of the vectors of covariance matrix, where covariance matrix has all input data points like its vectors in coordinate system, & Eigen vectors of covariance matrix should be derived in such a way that, it should obey below condition.</span>\n",
    "* <span style='background:yellow'>Covariance Matrix * Eigen vectors = Eigen Values * Eigen vectors</span>\n",
    "* i.e., Multiplying Eigen vectors with Covariance Matrix(variance & covariance data) = Eigen vectors(direction of high variance data dimension) multiplying with Eigen values(value of variance in the direction of eigen vector). \n",
    "* Like this Eigen vectors & Eigen values explains the covariance matrix(data variance & covariance information)."
   ]
  },
  {
   "cell_type": "markdown",
   "metadata": {},
   "source": [
    "&nbsp;"
   ]
  },
  {
   "cell_type": "markdown",
   "metadata": {},
   "source": [
    "#### Proof of deriving Eigen Vectors, obeying condition(T * 𝑣⃗ = A * 𝑣⃗)\n",
    "* T = Covariance Matrix\n",
    "* 𝑣⃗ = Eigen vectors\n",
    "* A = Eigen values"
   ]
  },
  {
   "cell_type": "code",
   "execution_count": 49,
   "metadata": {},
   "outputs": [
    {
     "data": {
      "text/plain": [
       "array([-2.10101448e-33,  3.11363636e-02])"
      ]
     },
     "execution_count": 49,
     "metadata": {},
     "output_type": "execute_result"
    }
   ],
   "source": [
    "C.dot(matrix_w[0])# 1st eigen vector multiple with Covariance matrix of input data"
   ]
  },
  {
   "cell_type": "code",
   "execution_count": 51,
   "metadata": {},
   "outputs": [
    {
     "data": {
      "text/plain": [
       "array([-2.10101448e-33,  3.11363636e-02])"
      ]
     },
     "execution_count": 51,
     "metadata": {},
     "output_type": "execute_result"
    }
   ],
   "source": [
    "eig_vals[1]*matrix_w[0] # 1st eigen vector multiple with 1st eigen value"
   ]
  },
  {
   "cell_type": "code",
   "execution_count": 53,
   "metadata": {},
   "outputs": [
    {
     "data": {
      "text/plain": [
       "array([ 8.40405794e-34, -2.10101448e-33])"
      ]
     },
     "execution_count": 53,
     "metadata": {},
     "output_type": "execute_result"
    }
   ],
   "source": [
    "C.dot(matrix_w[1])# 2nd eigen vector multiple with Covariance matrix of input data"
   ]
  },
  {
   "cell_type": "code",
   "execution_count": 61,
   "metadata": {},
   "outputs": [
    {
     "data": {
      "text/plain": [
       "array([8.40405794e-34, 0.00000000e+00])"
      ]
     },
     "execution_count": 61,
     "metadata": {},
     "output_type": "execute_result"
    }
   ],
   "source": [
    "eig_vals[0]*matrix_w[1] # 2nd eigen vector multiple with 2nd eigen value"
   ]
  },
  {
   "cell_type": "code",
   "execution_count": 65,
   "metadata": {},
   "outputs": [
    {
     "name": "stdout",
     "output_type": "stream",
     "text": [
      "-0.00000000000000000000\n",
      "0.00000000000000000000\n"
     ]
    }
   ],
   "source": [
    "print('%.20f'%-2.10101448e-33)\n",
    "print('%.20f'%0.00000000e+00)"
   ]
  },
  {
   "cell_type": "markdown",
   "metadata": {},
   "source": [
    "##### Key Note :\n",
    "* Hence eigen vectors are obeying mandotary condition."
   ]
  },
  {
   "cell_type": "markdown",
   "metadata": {},
   "source": [
    "&nbsp;"
   ]
  },
  {
   "cell_type": "markdown",
   "metadata": {},
   "source": [
    "#### Linear\\Orthogonal Transformation : Using Eigen Vectors"
   ]
  },
  {
   "cell_type": "code",
   "execution_count": 46,
   "metadata": {},
   "outputs": [],
   "source": [
    "Y = X.dot(matrix_w)"
   ]
  },
  {
   "cell_type": "markdown",
   "metadata": {},
   "source": [
    "&nbsp;"
   ]
  },
  {
   "cell_type": "markdown",
   "metadata": {},
   "source": [
    "#### Visualizing Orthogonal Transformation"
   ]
  },
  {
   "cell_type": "code",
   "execution_count": 47,
   "metadata": {},
   "outputs": [
    {
     "data": {
      "image/png": "[encoded data removed]",
      "text/plain": [
       "<Figure size 576x216 with 2 Axes>"
      ]
     },
     "metadata": {},
     "output_type": "display_data"
    }
   ],
   "source": [
    "# plt.style.available\n",
    "\n",
    "plt.style.use('ggplot')\n",
    "fig,axes = plt.subplots(nrows=1,ncols=2,figsize=(8,3))\n",
    "\n",
    "axes[0].scatter(X[:, 0], X[:, 1])\n",
    "axes[0].set_title('Original data',size=12)\n",
    "axes[0].set_xlabel('Original : X',size=10)\n",
    "axes[0].set_ylabel('Original : Y',size=10)\n",
    "\n",
    "axes[1].scatter(Y[:, 0], Y[:, 1])\n",
    "axes[1].set_title('Transformed data using Eigen Vectors',size=12)\n",
    "axes[1].set_xlabel('Eigen Vector direction : X',size=10)\n",
    "axes[1].set_ylabel('Eigen Vector direction : Y',size=10)\n",
    "\n",
    "plt.tight_layout()\n",
    "plt.show()"
   ]
  },
  {
   "cell_type": "markdown",
   "metadata": {},
   "source": [
    "&nbsp;"
   ]
  },
  {
   "cell_type": "markdown",
   "metadata": {},
   "source": [
    "&nbsp;"
   ]
  },
  {
   "cell_type": "markdown",
   "metadata": {},
   "source": [
    "### PCA(Sklearn)"
   ]
  },
  {
   "cell_type": "code",
   "execution_count": 69,
   "metadata": {},
   "outputs": [
    {
     "data": {
      "text/plain": [
       "PCA(copy=True, iterated_power='auto', n_components=None, random_state=None,\n",
       "    svd_solver='auto', tol=0.0, whiten=False)"
      ]
     },
     "execution_count": 69,
     "metadata": {},
     "output_type": "execute_result"
    }
   ],
   "source": [
    "pca = PCA()\n",
    "\n",
    "# K = pca.fit_transform(X)\n",
    "model = pca.fit(X)\n",
    "model"
   ]
  },
  {
   "cell_type": "code",
   "execution_count": 70,
   "metadata": {},
   "outputs": [
    {
     "data": {
      "text/plain": [
       "array([3.11363636e-02, 8.40405794e-34])"
      ]
     },
     "execution_count": 70,
     "metadata": {},
     "output_type": "execute_result"
    }
   ],
   "source": [
    "model.explained_variance_"
   ]
  },
  {
   "cell_type": "code",
   "execution_count": 71,
   "metadata": {},
   "outputs": [
    {
     "data": {
      "text/plain": [
       "array([1.0000000e+00, 2.6991135e-32])"
      ]
     },
     "execution_count": 71,
     "metadata": {},
     "output_type": "execute_result"
    }
   ],
   "source": [
    "model.explained_variance_ratio_"
   ]
  },
  {
   "cell_type": "code",
   "execution_count": 72,
   "metadata": {},
   "outputs": [
    {
     "data": {
      "text/plain": [
       "2"
      ]
     },
     "execution_count": 72,
     "metadata": {},
     "output_type": "execute_result"
    }
   ],
   "source": [
    "model.n_components_"
   ]
  },
  {
   "cell_type": "code",
   "execution_count": 77,
   "metadata": {},
   "outputs": [
    {
     "data": {
      "text/plain": [
       "2"
      ]
     },
     "execution_count": 77,
     "metadata": {},
     "output_type": "execute_result"
    }
   ],
   "source": [
    "model.n_features_"
   ]
  },
  {
   "cell_type": "code",
   "execution_count": 81,
   "metadata": {},
   "outputs": [
    {
     "data": {
      "text/plain": [
       "array([[ 6.23333562e-32, -1.00000000e+00],\n",
       "       [-1.00000000e+00, -6.23333562e-32]])"
      ]
     },
     "execution_count": 81,
     "metadata": {},
     "output_type": "execute_result"
    }
   ],
   "source": [
    "model.components_"
   ]
  },
  {
   "cell_type": "code",
   "execution_count": 87,
   "metadata": {},
   "outputs": [],
   "source": [
    "K = model.transform(X)#Performing orthogonal transformation on input data into its top high variance dimensions."
   ]
  },
  {
   "cell_type": "code",
   "execution_count": 85,
   "metadata": {},
   "outputs": [
    {
     "data": {
      "image/png": "[encoded data removed]",
      "text/plain": [
       "<Figure size 576x216 with 3 Axes>"
      ]
     },
     "metadata": {},
     "output_type": "display_data"
    }
   ],
   "source": [
    "# plt.style.available\n",
    "\n",
    "plt.style.use('ggplot')\n",
    "fig,axes = plt.subplots(nrows=1,ncols=3,figsize=(8,3))\n",
    "\n",
    "axes[0].scatter(X[:, 0], X[:, 1])\n",
    "axes[0].set_title('Original data',size=12)\n",
    "axes[0].set_xlabel('Original : X',size=10)\n",
    "axes[0].set_ylabel('Original : Y',size=10)\n",
    "\n",
    "axes[1].scatter(Y[:, 0], Y[:, 1])\n",
    "axes[1].set_title('Transformed data using \\nmanual numpy Eigen Vectors',size=10)\n",
    "axes[1].set_xlabel('Eigen Vector direction : X',size=10)\n",
    "axes[1].set_ylabel('Eigen Vector direction : Y',size=10)\n",
    "\n",
    "axes[2].scatter(K[:, 0], K[:, 1])\n",
    "axes[2].set_title('Transformed data using \\nSklearn Eigen Vectors',size=10)\n",
    "axes[2].set_xlabel('Eigen Vector direction : X',size=10)\n",
    "axes[2].set_ylabel('Eigen Vector direction : Y',size=10)\n",
    "\n",
    "plt.tight_layout()\n",
    "plt.show()"
   ]
  },
  {
   "cell_type": "markdown",
   "metadata": {},
   "source": [
    "#### Key Note :\n",
    "* If we notice Sklearn:PCA:Eigen vectors and Manual:PCA:Eigen vectors done same transformations. Eigen direction are exactly same in variance but got upside down axes in finding variance, however which is same in finding variance of input data, that's sklearn got one point at last and manual got that one point as at intial, which is ok. "
   ]
  },
  {
   "cell_type": "markdown",
   "metadata": {},
   "source": [
    "&nbsp;"
   ]
  },
  {
   "cell_type": "markdown",
   "metadata": {},
   "source": [
    "&nbsp;"
   ]
  },
  {
   "cell_type": "markdown",
   "metadata": {},
   "source": [
    "#### Advantages of Principal Component Analysis :\n",
    "\n",
    "1. <b>Removes Correlated Features:</b> In a real world scenario, this is very common that you get thousands of features in your dataset. You cannot run your algorithm on all the features as it will reduce the performance of your algorithm and it will not be easy to visualize that many features in any kind of graph. So, you MUST reduce the number of features in your dataset. \n",
    "\n",
    "2. <b>Improves Algorithm Performance:</b> With so many features, the performance of your algorithm will drastically degrade. PCA is a very common way to speed up your Machine Learning algorithm by getting rid of correlated variables which don't contribute in any decision making. The training time of the algorithms reduces significantly with less number of features.\n",
    "\n",
    "3. <b>Reduces Overfitting:</b> Overfitting mainly occurs when there are too many variables in the dataset. So, PCA helps in overcoming the overfitting issue by reducing the number of features.\n",
    "\n",
    "4. <b>Improves Visualization:</b> It is very hard to visualize and understand the data in high dimensions. PCA transforms a high dimensional data to low dimensional data (2 dimension) so that it can be visualized easily. \n",
    "\n",
    "#### Disadvantages of Principal Component Analysis :\n",
    "\n",
    "1. <b>Independent variables become less interpretable:</b> After implementing PCA on the dataset, your original features will turn into Principal Components. Principal Components are the linear combination of your original features. Principal Components are not as readable and interpretable as original features.\n",
    "\n",
    "2. <b>Data standardization is must before PCA:</b> You must standardize your data before implementing PCA, otherwise PCA will not be able to find the optimal Principal Components. \n",
    "\n",
    "3. <b>Information Loss:</b> Although Principal Components try to cover maximum variance among the features in a dataset, if we don't select the number of Principal Components with care, it may miss some information as compared to the original list of features."
   ]
  }
 ],
 "metadata": {
  "kernelspec": {
   "display_name": "Python 3",
   "language": "python",
   "name": "python3"
  },
  "language_info": {
   "codemirror_mode": {
    "name": "ipython",
    "version": 3
   },
   "file_extension": ".py",
   "mimetype": "text/x-python",
   "name": "python",
   "nbconvert_exporter": "python",
   "pygments_lexer": "ipython3",
   "version": "3.7.4"
  }
 },
 "nbformat": 4,
 "nbformat_minor": 4
}
